{
 "cells": [
  {
   "cell_type": "markdown",
   "metadata": {},
   "source": [
    "# Self-Driving Car Engineer Nanodegree\n",
    "\n",
    "## Deep Learning\n",
    "\n",
    "## Project: Build a Traffic Sign Recognition Classifier\n",
    "\n",
    "In this notebook, a template is provided for you to implement your functionality in stages, which is required to successfully complete this project. If additional code is required that cannot be included in the notebook, be sure that the Python code is successfully imported and included in your submission if necessary. \n",
    "\n",
    "> **Note**: Once you have completed all of the code implementations, you need to finalize your work by exporting the iPython Notebook as an HTML document. Before exporting the notebook to html, all of the code cells need to have been run so that reviewers can see the final implementation and output. You can then export the notebook by using the menu above and navigating to  \\n\",\n",
    "    \"**File -> Download as -> HTML (.html)**. Include the finished document along with this notebook as your submission. \n",
    "\n",
    "In addition to implementing code, there is a writeup to complete. The writeup should be completed in a separate file, which can be either a markdown file or a pdf document. There is a [write up template](https://github.com/udacity/CarND-Traffic-Sign-Classifier-Project/blob/master/writeup_template.md) that can be used to guide the writing process. Completing the code template and writeup template will cover all of the [rubric points](https://review.udacity.com/#!/rubrics/481/view) for this project.\n",
    "\n",
    "The [rubric](https://review.udacity.com/#!/rubrics/481/view) contains \"Stand Out Suggestions\" for enhancing the project beyond the minimum requirements. The stand out suggestions are optional. If you decide to pursue the \"stand out suggestions\", you can include the code in this Ipython notebook and also discuss the results in the writeup file.\n",
    "\n",
    "\n",
    ">**Note:** Code and Markdown cells can be executed using the **Shift + Enter** keyboard shortcut. In addition, Markdown cells can be edited by typically double-clicking the cell to enter edit mode."
   ]
  },
  {
   "cell_type": "markdown",
   "metadata": {},
   "source": [
    "---\n",
    "## Step 0: Load The Data"
   ]
  },
  {
   "cell_type": "code",
   "execution_count": 1,
   "metadata": {
    "collapsed": true
   },
   "outputs": [],
   "source": [
    "# Load pickled data\n",
    "import pickle\n",
    "\n",
    "# TODO: Fill this in based on where you saved the training and testing data\n",
    "\n",
    "training_file = '../traffic-signs-data/train.p'\n",
    "validation_file='../traffic-signs-data/valid.p'\n",
    "testing_file = '../traffic-signs-data/test.p'\n",
    "\n",
    "with open(training_file, mode='rb') as f:\n",
    "    train = pickle.load(f)\n",
    "with open(validation_file, mode='rb') as f:\n",
    "    valid = pickle.load(f)\n",
    "with open(testing_file, mode='rb') as f:\n",
    "    test = pickle.load(f)\n",
    "    \n",
    "X_train, y_train = train['features'].astype('float32'), train['labels']\n",
    "X_validation, y_validation = valid['features'], valid['labels']\n",
    "X_test, y_test = test['features'], test['labels']"
   ]
  },
  {
   "cell_type": "markdown",
   "metadata": {},
   "source": [
    "---\n",
    "\n",
    "## Step 1: Dataset Summary & Exploration\n",
    "\n",
    "The pickled data is a dictionary with 4 key/value pairs:\n",
    "\n",
    "- `'features'` is a 4D array containing raw pixel data of the traffic sign images, (num examples, width, height, channels).\n",
    "- `'labels'` is a 1D array containing the label/class id of the traffic sign. The file `signnames.csv` contains id -> name mappings for each id.\n",
    "- `'sizes'` is a list containing tuples, (width, height) representing the original width and height the image.\n",
    "- `'coords'` is a list containing tuples, (x1, y1, x2, y2) representing coordinates of a bounding box around the sign in the image. **THESE COORDINATES ASSUME THE ORIGINAL IMAGE. THE PICKLED DATA CONTAINS RESIZED VERSIONS (32 by 32) OF THESE IMAGES**\n",
    "\n",
    "Complete the basic data summary below. Use python, numpy and/or pandas methods to calculate the data summary rather than hard coding the results. For example, the [pandas shape method](http://pandas.pydata.org/pandas-docs/stable/generated/pandas.DataFrame.shape.html) might be useful for calculating some of the summary results. "
   ]
  },
  {
   "cell_type": "markdown",
   "metadata": {},
   "source": [
    "### Provide a Basic Summary of the Data Set Using Python, Numpy and/or Pandas"
   ]
  },
  {
   "cell_type": "code",
   "execution_count": 2,
   "metadata": {},
   "outputs": [
    {
     "name": "stdout",
     "output_type": "stream",
     "text": [
      "Number of training examples = 34799\n",
      "Number of testing examples = 12630\n",
      "Image data shape = (32, 32)\n",
      "Number of classes = 43\n",
      "Shape of label (34799,)\n"
     ]
    }
   ],
   "source": [
    "### Replace each question mark with the appropriate value. \n",
    "### Use python, pandas or numpy methods rather than hard coding the results\n",
    "import numpy as np \n",
    "import matplotlib.pyplot as plt\n",
    "\n",
    "# TODO: Number of training examples\n",
    "n_train = len(train['labels'])\n",
    "\n",
    "# TODO: Number of validation examples\n",
    "n_validation = len(valid['labels'])\n",
    "\n",
    "# TODO: Number of testing examples.\n",
    "n_test = len(test['labels'])\n",
    "\n",
    "# TODO: What's the shape of an traffic sign image?\n",
    "image_shape = train['features'].shape[1], train['features'].shape[2]\n",
    "\n",
    "# TODO: How many unique classes/labels there are in the dataset.\n",
    "n_classes = len(np.unique(train['labels']))\n",
    "\n",
    "plt.hist(train['labels'],bins=np.unique(train['labels']),histtype='stepfilled',color=['darkblue'])\n",
    "\n",
    "print(\"Number of training examples =\", n_train)\n",
    "print(\"Number of testing examples =\", n_test)\n",
    "print(\"Image data shape =\", image_shape)\n",
    "print(\"Number of classes =\", n_classes)\n",
    "print(\"Shape of label\", train['labels'].shape)"
   ]
  },
  {
   "cell_type": "markdown",
   "metadata": {},
   "source": [
    "### Include an exploratory visualization of the dataset"
   ]
  },
  {
   "cell_type": "markdown",
   "metadata": {},
   "source": [
    "Visualize the German Traffic Signs Dataset using the pickled file(s). This is open ended, suggestions include: plotting traffic sign images, plotting the count of each sign, etc. \n",
    "\n",
    "The [Matplotlib](http://matplotlib.org/) [examples](http://matplotlib.org/examples/index.html) and [gallery](http://matplotlib.org/gallery.html) pages are a great resource for doing visualizations in Python.\n",
    "\n",
    "**NOTE:** It's recommended you start with something simple first. If you wish to do more, come back to it after you've completed the rest of the sections. It can be interesting to look at the distribution of classes in the training, validation and test set. Is the distribution the same? Are there more examples of some classes than others?"
   ]
  },
  {
   "cell_type": "code",
   "execution_count": 3,
   "metadata": {},
   "outputs": [
    {
     "data": {
      "text/plain": [
       "<matplotlib.image.AxesImage at 0x7f005b4487f0>"
      ]
     },
     "execution_count": 3,
     "metadata": {},
     "output_type": "execute_result"
    },
    {
     "data": {
      "image/png": "[encoded data removed]",
      "text/plain": [
       "<matplotlib.figure.Figure at 0x7f008cd02c50>"
      ]
     },
     "metadata": {},
     "output_type": "display_data"
    }
   ],
   "source": [
    "import random\n",
    "import numpy as np\n",
    "import matplotlib.pyplot as plt\n",
    "%matplotlib inline\n",
    "\n",
    "#index = random.randint(0, len(X_train))\n",
    "index = 850\n",
    "image = X_train[index].squeeze()\n",
    "\n",
    "plt.figure(figsize=(1,1))\n",
    "#plt.imshow(image)\n",
    "plt.imshow(X_train[index].astype('uint8').squeeze())\n",
    "#print(y_train[index])"
   ]
  },
  {
   "cell_type": "markdown",
   "metadata": {},
   "source": [
    "----\n",
    "\n",
    "## Step 2: Design and Test a Model Architecture\n",
    "\n",
    "Design and implement a deep learning model that learns to recognize traffic signs. Train and test your model on the [German Traffic Sign Dataset](http://benchmark.ini.rub.de/?section=gtsrb&subsection=dataset).\n",
    "\n",
    "The LeNet-5 implementation shown in the [classroom](https://classroom.udacity.com/nanodegrees/nd013/parts/fbf77062-5703-404e-b60c-95b78b2f3f9e/modules/6df7ae49-c61c-4bb2-a23e-6527e69209ec/lessons/601ae704-1035-4287-8b11-e2c2716217ad/concepts/d4aca031-508f-4e0b-b493-e7b706120f81) at the end of the CNN lesson is a solid starting point. You'll have to change the number of classes and possibly the preprocessing, but aside from that it's plug and play! \n",
    "\n",
    "With the LeNet-5 solution from the lecture, you should expect a validation set accuracy of about 0.89. To meet specifications, the validation set accuracy will need to be at least 0.93. It is possible to get an even higher accuracy, but 0.93 is the minimum for a successful project submission. \n",
    "\n",
    "There are various aspects to consider when thinking about this problem:\n",
    "\n",
    "- Neural network architecture (is the network over or underfitting?)\n",
    "- Play around preprocessing techniques (normalization, rgb to grayscale, etc)\n",
    "- Number of examples per label (some have more than others).\n",
    "- Generate fake data.\n",
    "\n",
    "Here is an example of a [published baseline model on this problem](http://yann.lecun.com/exdb/publis/pdf/sermanet-ijcnn-11.pdf). It's not required to be familiar with the approach used in the paper but, it's good practice to try to read papers like these."
   ]
  },
  {
   "cell_type": "markdown",
   "metadata": {},
   "source": [
    "### Pre-process the Data Set (normalization, grayscale, etc.)"
   ]
  },
  {
   "cell_type": "markdown",
   "metadata": {},
   "source": [
    "Minimally, the image data should be normalized so that the data has mean zero and equal variance. For image data, `(pixel - 128)/ 128` is a quick way to approximately normalize the data and can be used in this project. \n",
    "\n",
    "Other pre-processing steps are optional. You can try different techniques to see if it improves performance. \n",
    "\n",
    "Use the code cell (or multiple code cells, if necessary) to implement the first step of your project."
   ]
  },
  {
   "cell_type": "code",
   "execution_count": 4,
   "metadata": {},
   "outputs": [],
   "source": [
    "### Preprocess the data here. It is required to normalize the data. Other preprocessing steps could include \n",
    "### converting to grayscale, etc.\n",
    "### Feel free to use as many code cells as needed.\n",
    "\n",
    "from sklearn.utils import shuffle\n",
    "#from sklearn.preprocessing import StandardScaler\n",
    "from math import ceil, floor\n",
    "import cv2\n",
    "import tensorflow as tf\n",
    "from imgaug import augmenters as iaa\n",
    "\n",
    "\n",
    "IMAGE_SIZE = 32\n",
    "def Normalize(image):\n",
    "    #scaler = StandardScaler()\n",
    "    #return scaler.fit(image)\n",
    "    return (image.astype(float)-128)/128\n",
    "\n",
    "\n",
    "def add_salt_pepper_noise(X_imgs):\n",
    "    # Need to produce a copy as to not modify the original image\n",
    "    X_imgs_copy = X_imgs.copy()\n",
    "    row, col, _ = X_imgs_copy[0].shape\n",
    "    salt_vs_pepper = 0.2\n",
    "    amount = 0.004\n",
    "    num_salt = np.ceil(amount * X_imgs_copy[0].size * salt_vs_pepper)\n",
    "    num_pepper = np.ceil(amount * X_imgs_copy[0].size * (1.0 - salt_vs_pepper))\n",
    "    \n",
    "    for X_img in X_imgs_copy:\n",
    "        # Add Salt noise\n",
    "        coords = [np.random.randint(0, i - 1, int(num_salt)) for i in X_img.shape]\n",
    "        X_img[coords[0], coords[1], :] = 1\n",
    "\n",
    "        # Add Pepper noise\n",
    "        coords = [np.random.randint(0, i - 1, int(num_pepper)) for i in X_img.shape]\n",
    "        X_img[coords[0], coords[1], :] = 0\n",
    "    return X_imgs_copy\n",
    "  \n",
    "\n",
    "def augment(img):\n",
    "    \n",
    "    seq1 = iaa.Sequential([\n",
    "    iaa.Crop(px=(0, 16)), # crop images from each side by 0 to 16px (randomly chosen)\n",
    "    iaa.Fliplr(0.5), # horizontally flip 50% of the images\n",
    "    iaa.GaussianBlur(sigma=(0, 3.0)) # blur images with a sigma of 0 to 3.0\n",
    "])\n",
    "    \n",
    "    seq2 = iaa.Sequential([\n",
    "    iaa.Fliplr(0.5), # horizontal flips\n",
    "    iaa.Crop(percent=(0, 0.1)), # random crops\n",
    "    # Small gaussian blur with random sigma between 0 and 0.5.\n",
    "    # But we only blur about 50% of all images.\n",
    "    iaa.Sometimes(0.5,\n",
    "        iaa.GaussianBlur(sigma=(0, 0.5))\n",
    "    ),\n",
    "    # Strengthen or weaken the contrast in each image.\n",
    "    iaa.ContrastNormalization((0.75, 1.5)),\n",
    "    # Add gaussian noise.\n",
    "    # For 50% of all images, we sample the noise once per pixel.\n",
    "    # For the other 50% of all images, we sample the noise per pixel AND\n",
    "    # channel. This can change the color (not only brightness) of the\n",
    "    # pixels.\n",
    "    iaa.AdditiveGaussianNoise(loc=0, scale=(0.0, 0.05*255), per_channel=0.5),\n",
    "    # Make some images brighter and some darker.\n",
    "    # In 20% of all cases, we sample the multiplier once per channel,\n",
    "    # which can end up changing the color of the images.\n",
    "    iaa.Multiply((0.8, 1.2), per_channel=0.2),\n",
    "    # Apply affine transformations to each image.\n",
    "    # Scale/zoom them, translate/move them, rotate them and shear them.\n",
    "    iaa.Affine(\n",
    "        scale={\"x\": (0.8, 1.2), \"y\": (0.8, 1.2)},\n",
    "        translate_percent={\"x\": (-0.2, 0.2), \"y\": (-0.2, 0.2)},\n",
    "        rotate=(-25, 25),\n",
    "        shear=(-8, 8)\n",
    "    )\n",
    "], random_order=True) # apply augmenters in random order\n",
    "    \n",
    "    seq3 = iaa.Alpha(\n",
    "    factor=(0.2, 0.8),\n",
    "    first=iaa.Sharpen(1.0, lightness=2),\n",
    "    second=iaa.CoarseDropout(p=0.1, size_px=8)\n",
    ")\n",
    "    \n",
    "    method1=add_salt_pepper_noise\n",
    "    method2=seq1.augment_images\n",
    "    method3=seq2.augment_images\n",
    "    method4=seq3.augment_images\n",
    "    \n",
    "    res1 = np.append(method1(img),method2(img),axis=0)\n",
    "    res2 = np.append(res1, method3(img), axis=0)\n",
    "    return np.append(res2, method4(img), axis=0)\n",
    "\n",
    "def balance_dataset(images, labels, threshold=1000):\n",
    "    \n",
    "    imgs  = np.copy(images)\n",
    "    lbls= np.copy(labels)\n",
    "    for traffic_sign_class in range(n_classes):\n",
    "\n",
    "        #get indexes of elements of a class\n",
    "        idx=np.array([i for i,x in enumerate(lbls) if x==traffic_sign_class])\n",
    "        \n",
    "        #get images and labels corresponding to that class\n",
    "        cls_imgs = imgs[idx]\n",
    "        cls_labels = lbls[idx]\n",
    "        \n",
    "        #append the augmented images to the data set\n",
    "        if len(cls_imgs) < threshold : \n",
    "            \n",
    "            #print('augmenting class '+format(traffic_sign_class)+' which has '+format(len(cls_imgs))+' elements')\n",
    "            \n",
    "            #calculate number of images added as a multiple of original data set by augmentation\n",
    "            aug = augment(cls_imgs)\n",
    "            len_aug = int(len(aug)/len(cls_imgs))\n",
    "\n",
    "            imgs = np.append(imgs, augment(cls_imgs), axis=0)\n",
    "            lbls= np.append(lbls, [[cls_labels],[cls_labels],[cls_labels],[cls_labels]])\n",
    "            \n",
    "            #print('adding up '+format(4*len(cls_imgs))+' items.')\n",
    "            \n",
    "            if ((len_aug+1)*len(cls_imgs) > threshold):\n",
    "                #print('we\\'re now '+format((len_aug+1)*len(cls_imgs) -  threshold)+' items above '+format(threshold)+'.')\n",
    "            \n",
    "                #truncate whatever is above threshold\n",
    "                #print('removing the '+format((len_aug+1)*len(cls_imgs)- threshold)+' last items.')\n",
    "            \n",
    "                imgs=imgs[0:-((len_aug+1)*len(cls_imgs) - threshold)]\n",
    "                lbls=lbls[0:-((len_aug+1)*len(cls_imgs) - threshold)]\n",
    "\n",
    "            idx=np.array([i for i,x in enumerate(lbls) if x==traffic_sign_class])\n",
    "            #print('class '+format(traffic_sign_class)+' has grown to '+format(len(imgs[idx])) + ' elements.')\n",
    "            \n",
    "        #else:  print('class '+format(traffic_sign_class)+' already has '+format(len(cls_imgs))+' images.')\n",
    "\n",
    "    return imgs , lbls\n",
    "\n",
    "augment_dataset = True\n",
    "if augment_dataset:\n",
    "    #augment data set X_test\n",
    "    #print('the data set has '+format(len(X_train))+' items in total.')\n",
    "    X_train, y_train = balance_dataset(X_train, y_train, threshold=1200)\n",
    "    #print('the data set now has '+format(len(X_train))+' items in total.')\n",
    "    #print('there are '+format(len(y_train))+' corresponding labels.')\n",
    "    \n",
    "append_test_set = False\n",
    "if append_test_set: \n",
    "    X_train = np.append(X_train, X_test, axis=0)\n",
    "    y_train = np.append(y_train, y_test, axis=0)\n",
    "\n",
    "#shuffle the resulting data\n",
    "X_train, y_train = shuffle(X_train, y_train)\n",
    "\n",
    "\n",
    "#Normalize data sets\n",
    "X_train=Normalize(X_train)\n",
    "X_validation = Normalize(X_validation)\n",
    "X_test = Normalize(X_test)\n",
    "\n"
   ]
  },
  {
   "cell_type": "code",
   "execution_count": 5,
   "metadata": {},
   "outputs": [
    {
     "data": {
      "text/plain": [
       "<matplotlib.image.AxesImage at 0x7efff837e048>"
      ]
     },
     "execution_count": 5,
     "metadata": {},
     "output_type": "execute_result"
    },
    {
     "data": {
      "image/png": "[encoded data removed]",
      "text/plain": [
       "<matplotlib.figure.Figure at 0x7f008cd02550>"
      ]
     },
     "metadata": {},
     "output_type": "display_data"
    },
    {
     "data": {
      "image/png": "[encoded data removed]",
      "text/plain": [
       "<matplotlib.figure.Figure at 0x7efff83285f8>"
      ]
     },
     "metadata": {},
     "output_type": "display_data"
    }
   ],
   "source": [
    "plt.figure()\n",
    "bar_plot = plt.subplot(2,1,1)\n",
    "bar_plot.set_title('before augmentation')\n",
    "bar_plot.hist(train['labels'],bins=np.unique(train['labels']),histtype='stepfilled',color=['darkblue'])\n",
    "\n",
    "if augment_dataset:\n",
    "    bar_plot = plt.subplot(2,1,2)\n",
    "    bar_plot.set_title('after augmentation')\n",
    "    bar_plot.hist(y_train,bins=np.unique(y_train),histtype='stepfilled',color=['darkblue'])\n",
    "\n",
    "#show image 850 in appended set\n",
    "index = 850\n",
    "image = np.copy(X_train[index])\n",
    "\n",
    "plt.figure(figsize=(1,1))\n",
    "plt.imshow(image.astype('uint8'))\n",
    "\n"
   ]
  },
  {
   "cell_type": "code",
   "execution_count": 6,
   "metadata": {
    "collapsed": true
   },
   "outputs": [],
   "source": [
    "EPOCHS = 25\n",
    "BATCH_SIZE = 32\n"
   ]
  },
  {
   "cell_type": "markdown",
   "metadata": {},
   "source": [
    "### Model Architecture"
   ]
  },
  {
   "cell_type": "code",
   "execution_count": 7,
   "metadata": {
    "collapsed": true
   },
   "outputs": [],
   "source": [
    "### Define your architecture here.\n",
    "### Feel free to use as many code cells as needed.\n",
    "from tensorflow.contrib.layers import flatten\n",
    "\n",
    "def LeNet(x):    \n",
    "    # Arguments used for tf.truncated_normal, randomly defines variables for the weights and biases for each layer\n",
    "    mu = 0\n",
    "    sigma = 0.1\n",
    "    keep_prob = 0.5\n",
    "    \n",
    "    dropout1 = False\n",
    "    dropout2 = False\n",
    "    dropout_before_pooling = True\n",
    "    \n",
    "    # Layer 1: Convolutional. Input = 32x32x1. Output = 28x28x6.\n",
    "    conv1_W = tf.Variable(tf.truncated_normal(shape=(5, 5, 3, 6), mean = mu, stddev = sigma), name=\"conv1_W\")\n",
    "    conv1_b = tf.Variable(tf.zeros(6),name=\"conv1_b\")\n",
    "    conv1   = tf.nn.conv2d(x, conv1_W, strides=[1, 1, 1, 1], padding='VALID') + conv1_b\n",
    "            \n",
    "    # Activation.\n",
    "    conv1 = tf.nn.relu(conv1)\n",
    "    \n",
    "\n",
    "    if dropout1 and dropout_before_pooling:\n",
    "        conv1=tf.nn.dropout(conv1, keep_prob=keep_prob)\n",
    "        \n",
    "    # Pooling. Input = 28x28x6. Output = 14x14x6.\n",
    "    conv1 = tf.nn.max_pool(conv1, ksize=[1, 2, 2, 1], strides=[1, 2, 2, 1], padding='VALID')\n",
    "    \n",
    "    if dropout1 and not dropout_before_pooling:\n",
    "        conv1=tf.nn.dropout(conv1, keep_prob=keep_prob)\n",
    "        \n",
    "    # Layer 2: Convolutional. Output = 10x10x16.\n",
    "    conv2_W = tf.Variable(tf.truncated_normal(shape=(5, 5, 6, 16), mean = mu, stddev = sigma),name=\"conv2_W\")\n",
    "    conv2_b = tf.Variable(tf.zeros(16),name=\"conv2_b\")\n",
    "    conv2   = tf.nn.conv2d(conv1, conv2_W, strides=[1, 1, 1, 1], padding='VALID') + conv2_b\n",
    "    \n",
    "        \n",
    "    # Activation.\n",
    "    conv2 = tf.nn.relu(conv2)\n",
    "\n",
    "    if dropout2 and dropout_before_pooling:\n",
    "        conv2=tf.nn.dropout(conv2, keep_prob=keep_prob)\n",
    "        \n",
    "    # Pooling. Input = 10x10x16. Output = 5x5x16.\n",
    "    conv2 = tf.nn.max_pool(conv2, ksize=[1, 2, 2, 1], strides=[1, 2, 2, 1], padding='VALID')\n",
    "    \n",
    "    if dropout2 and not dropout_before_pooling:\n",
    "        conv2=tf.nn.dropout(conv2, keep_prob=keep_prob)\n",
    "        \n",
    "    # Flatten. Input = 5x5x16. Output = 400.\n",
    "    fc0   = flatten(conv2)\n",
    "    \n",
    "    # Layer 3: Fully Connected. Input = 400. Output = 120.\n",
    "    fc1_W = tf.Variable(tf.truncated_normal(shape=(400, 120), mean = mu, stddev = sigma),name=\"fc1_W\")\n",
    "    fc1_b = tf.Variable(tf.zeros(120),name=\"fc1_b\")\n",
    "    fc1   = tf.matmul(fc0, fc1_W) + fc1_b\n",
    "    \n",
    "    # Activation.\n",
    "    fc1    = tf.nn.relu(fc1)\n",
    "\n",
    "    # Layer 4: Fully Connected. Input = 120. Output = 84.\n",
    "    fc2_W  = tf.Variable(tf.truncated_normal(shape=(120, 84), mean = mu, stddev = sigma),name=\"fc2_W\")\n",
    "    fc2_b  = tf.Variable(tf.zeros(84),name=\"fc2_b\")\n",
    "    fc2    = tf.matmul(fc1, fc2_W) + fc2_b\n",
    "    \n",
    "    # Activation.\n",
    "    fc2    = tf.nn.relu(fc2)\n",
    "\n",
    "    # Layer 5: Fully Connected. Input = 84. Output = 43.\n",
    "    fc3_W  = tf.Variable(tf.truncated_normal(shape=(84, 43), mean = mu, stddev = sigma),name=\"fc3_W\")\n",
    "    fc3_b  = tf.Variable(tf.zeros(43), name=\"fc3_b\")\n",
    "    logits = tf.matmul(fc2, fc3_W) + fc3_b\n",
    "\n",
    "    return logits"
   ]
  },
  {
   "cell_type": "markdown",
   "metadata": {},
   "source": [
    "## Features and Labels\n",
    "Train LeNet to classify german traffic sign data.\n",
    "\n",
    "`x` is a placeholder for a batch of input images.\n",
    "`y` is a placeholder for a batch of output labels.\n"
   ]
  },
  {
   "cell_type": "code",
   "execution_count": 8,
   "metadata": {
    "collapsed": true
   },
   "outputs": [],
   "source": [
    "x = tf.placeholder(tf.float32, (None, 32, 32, 3))\n",
    "y = tf.placeholder(tf.int32, (None))\n",
    "one_hot_y = tf.one_hot(y, 43)"
   ]
  },
  {
   "cell_type": "markdown",
   "metadata": {},
   "source": [
    "### Train, Validate and Test the Model"
   ]
  },
  {
   "cell_type": "markdown",
   "metadata": {},
   "source": [
    "A validation set can be used to assess how well the model is performing. A low accuracy on the training and validation\n",
    "sets imply underfitting. A high accuracy on the training set but low accuracy on the validation set implies overfitting."
   ]
  },
  {
   "cell_type": "markdown",
   "metadata": {},
   "source": [
    "## Training Pipeline\n",
    "Create a training pipeline that uses the model to classify MNIST data.\n"
   ]
  },
  {
   "cell_type": "code",
   "execution_count": 9,
   "metadata": {
    "collapsed": true
   },
   "outputs": [],
   "source": [
    "rate = 0.001\n",
    "\n",
    "logits = LeNet(x)\n",
    "cross_entropy = tf.nn.softmax_cross_entropy_with_logits(labels=one_hot_y, logits=logits)\n",
    "loss_operation = tf.reduce_mean(cross_entropy)\n",
    "optimizer = tf.train.AdamOptimizer(learning_rate = rate)\n",
    "training_operation = optimizer.minimize(loss_operation)"
   ]
  },
  {
   "cell_type": "markdown",
   "metadata": {},
   "source": [
    "## Model Evaluation\n",
    "Evaluate how well the loss and accuracy of the model for a given dataset.\n"
   ]
  },
  {
   "cell_type": "code",
   "execution_count": 10,
   "metadata": {
    "collapsed": true
   },
   "outputs": [],
   "source": [
    "correct_prediction = tf.equal(tf.argmax(logits, 1), tf.argmax(one_hot_y, 1))\n",
    "accuracy_operation = tf.reduce_mean(tf.cast(correct_prediction, tf.float32))\n",
    "saver = tf.train.Saver()\n",
    "\n",
    "def evaluate(X_data, y_data):\n",
    "    num_examples = len(X_data)\n",
    "    total_accuracy = 0\n",
    "    sess = tf.get_default_session()\n",
    "    for offset in range(0, num_examples, BATCH_SIZE):\n",
    "        batch_x, batch_y = X_data[offset:offset+BATCH_SIZE], y_data[offset:offset+BATCH_SIZE]\n",
    "        accuracy = sess.run(accuracy_operation, feed_dict={x: batch_x, y: batch_y})\n",
    "        total_accuracy += (accuracy * len(batch_x))\n",
    "    return total_accuracy / num_examples"
   ]
  },
  {
   "cell_type": "markdown",
   "metadata": {},
   "source": [
    "## Train the Model\n",
    "Run the training data through the training pipeline to train the model.\n",
    "\n",
    "Before each epoch, shuffle the training set.\n",
    "\n",
    "After each epoch, measure the loss and accuracy of the validation set.\n",
    "\n",
    "Save the model after training.\n"
   ]
  },
  {
   "cell_type": "code",
   "execution_count": 11,
   "metadata": {},
   "outputs": [
    {
     "name": "stdout",
     "output_type": "stream",
     "text": [
      "Training...\n",
      "\n",
      "EPOCH 1 ...\n",
      "Validation Accuracy = 0.824\n",
      "Training Accuracy = 0.813\n",
      "Test Accuracy = 0.857\n",
      "\n",
      "EPOCH 2 ...\n",
      "Validation Accuracy = 0.867\n",
      "Training Accuracy = 0.863\n",
      "Test Accuracy = 0.889\n",
      "\n",
      "EPOCH 3 ...\n",
      "Validation Accuracy = 0.889\n",
      "Training Accuracy = 0.885\n",
      "Test Accuracy = 0.888\n",
      "\n",
      "EPOCH 4 ...\n",
      "Validation Accuracy = 0.885\n",
      "Training Accuracy = 0.896\n",
      "Test Accuracy = 0.899\n",
      "\n",
      "EPOCH 5 ...\n",
      "Validation Accuracy = 0.875\n",
      "Training Accuracy = 0.896\n",
      "Test Accuracy = 0.885\n",
      "\n",
      "EPOCH 6 ...\n",
      "Validation Accuracy = 0.890\n",
      "Training Accuracy = 0.911\n",
      "Test Accuracy = 0.898\n",
      "\n",
      "EPOCH 7 ...\n",
      "Validation Accuracy = 0.907\n",
      "Training Accuracy = 0.922\n",
      "Test Accuracy = 0.905\n",
      "\n",
      "EPOCH 8 ...\n",
      "Validation Accuracy = 0.887\n",
      "Training Accuracy = 0.920\n",
      "Test Accuracy = 0.895\n",
      "\n",
      "EPOCH 9 ...\n",
      "Validation Accuracy = 0.880\n",
      "Training Accuracy = 0.930\n",
      "Test Accuracy = 0.905\n",
      "\n",
      "EPOCH 10 ...\n",
      "Validation Accuracy = 0.880\n",
      "Training Accuracy = 0.923\n",
      "Test Accuracy = 0.888\n",
      "\n",
      "EPOCH 11 ...\n",
      "Validation Accuracy = 0.893\n",
      "Training Accuracy = 0.934\n",
      "Test Accuracy = 0.902\n",
      "\n",
      "EPOCH 12 ...\n",
      "Validation Accuracy = 0.900\n",
      "Training Accuracy = 0.941\n",
      "Test Accuracy = 0.907\n",
      "\n",
      "EPOCH 13 ...\n",
      "Validation Accuracy = 0.903\n",
      "Training Accuracy = 0.945\n",
      "Test Accuracy = 0.896\n",
      "\n",
      "EPOCH 14 ...\n",
      "Validation Accuracy = 0.897\n",
      "Training Accuracy = 0.941\n",
      "Test Accuracy = 0.896\n",
      "\n",
      "EPOCH 15 ...\n",
      "Validation Accuracy = 0.915\n",
      "Training Accuracy = 0.954\n",
      "Test Accuracy = 0.904\n",
      "\n",
      "EPOCH 16 ...\n",
      "Validation Accuracy = 0.897\n",
      "Training Accuracy = 0.950\n",
      "Test Accuracy = 0.903\n",
      "\n",
      "EPOCH 17 ...\n",
      "Validation Accuracy = 0.895\n",
      "Training Accuracy = 0.951\n",
      "Test Accuracy = 0.893\n",
      "\n",
      "EPOCH 18 ...\n",
      "Validation Accuracy = 0.892\n",
      "Training Accuracy = 0.952\n",
      "Test Accuracy = 0.891\n",
      "\n",
      "EPOCH 19 ...\n",
      "Validation Accuracy = 0.902\n",
      "Training Accuracy = 0.951\n",
      "Test Accuracy = 0.900\n",
      "\n",
      "EPOCH 20 ...\n",
      "Validation Accuracy = 0.879\n",
      "Training Accuracy = 0.955\n",
      "Test Accuracy = 0.897\n",
      "\n",
      "EPOCH 21 ...\n",
      "Validation Accuracy = 0.889\n",
      "Training Accuracy = 0.963\n",
      "Test Accuracy = 0.903\n",
      "\n",
      "EPOCH 22 ...\n",
      "Validation Accuracy = 0.884\n",
      "Training Accuracy = 0.949\n",
      "Test Accuracy = 0.884\n",
      "\n",
      "EPOCH 23 ...\n",
      "Validation Accuracy = 0.900\n",
      "Training Accuracy = 0.954\n",
      "Test Accuracy = 0.905\n",
      "\n",
      "EPOCH 24 ...\n",
      "Validation Accuracy = 0.905\n",
      "Training Accuracy = 0.957\n",
      "Test Accuracy = 0.909\n",
      "\n",
      "EPOCH 25 ...\n",
      "Validation Accuracy = 0.904\n",
      "Training Accuracy = 0.965\n",
      "Test Accuracy = 0.906\n",
      "\n",
      "Model saved\n"
     ]
    },
    {
     "data": {
      "text/plain": [
       "<matplotlib.legend.Legend at 0x7f0048243be0>"
      ]
     },
     "execution_count": 11,
     "metadata": {},
     "output_type": "execute_result"
    },
    {
     "data": {
      "image/png": "[encoded data removed]",
      "text/plain": [
       "<matplotlib.figure.Figure at 0x7f004b2ae518>"
      ]
     },
     "metadata": {},
     "output_type": "display_data"
    }
   ],
   "source": [
    "### Train your model here.\n",
    "### Calculate and report the accuracy on the training and validation set.\n",
    "### Once a final model architecture is selected, \n",
    "### the accuracy on the test set should be calculated and reported as well.\n",
    "### Feel free to use as many code cells as needed.\n",
    "with tf.Session() as sess:\n",
    "    sess.run(tf.global_variables_initializer())\n",
    "    num_examples = len(X_train)\n",
    "    \n",
    "    print(\"Training...\")\n",
    "    print()\n",
    "    \n",
    "    training_loss_history = []\n",
    "    validation_loss_history = []\n",
    "    for i in range(EPOCHS):\n",
    "        X_train, y_train = shuffle(X_train, y_train)\n",
    "        for offset in range(0, num_examples, BATCH_SIZE):\n",
    "            end = offset + BATCH_SIZE\n",
    "            batch_x, batch_y = X_train[offset:end], y_train[offset:end]\n",
    "            sess.run(training_operation, feed_dict={x: batch_x, y: batch_y})\n",
    "        \n",
    "        training_loss_history.append(sess.run(loss_operation, feed_dict={x: X_train,y: y_train}))\n",
    "        validation_loss_history.append(sess.run(loss_operation, feed_dict={x: X_validation, y:y_validation}))\n",
    "        \n",
    "        test_accuracy = evaluate(X_test, y_test)\n",
    "        training_accuracy = evaluate(X_train, y_train)\n",
    "        validation_accuracy = evaluate(X_validation, y_validation)\n",
    "        print(\"EPOCH {} ...\".format(i+1))\n",
    "        print(\"Validation Accuracy = {:.3f}\".format(validation_accuracy))\n",
    "        print(\"Training Accuracy = {:.3f}\".format(training_accuracy))\n",
    "        print(\"Test Accuracy = {:.3f}\".format(test_accuracy))\n",
    "        print()\n",
    "        \n",
    "    saver.save(sess, './mymodel.ckpt')\n",
    "    print(\"Model saved\")\n",
    "    \n",
    "loss_plot = plt.subplot(2,1,1)\n",
    "loss_plot.set_title('Loss')\n",
    "loss_plot.plot(training_loss_history, 'r', label='Training Loss')\n",
    "loss_plot.plot(validation_loss_history, 'b', label='Validation Loss')\n",
    "loss_plot.set_xlim([0, EPOCHS])\n",
    "loss_plot.legend(loc=4)"
   ]
  },
  {
   "cell_type": "markdown",
   "metadata": {},
   "source": [
    "---\n",
    "\n",
    "## Step 3: Test a Model on New Images\n",
    "\n",
    "To give yourself more insight into how your model is working, download at least five pictures of German traffic signs from the web and use your model to predict the traffic sign type.\n",
    "\n",
    "You may find `signnames.csv` useful as it contains mappings from the class id (integer) to the actual sign name."
   ]
  },
  {
   "cell_type": "markdown",
   "metadata": {},
   "source": [
    "### Load and Output the Images"
   ]
  },
  {
   "cell_type": "code",
   "execution_count": 12,
   "metadata": {
    "collapsed": true,
    "scrolled": false
   },
   "outputs": [],
   "source": [
    "### Load the images and plot them here.\n",
    "### Feel free to use as many code cells as needed.\n",
    "import matplotlib.pyplot as plt\n",
    "import os\n",
    "from PIL import Image\n",
    "import cv2\n",
    "import csv\n",
    "%matplotlib inline\n",
    "csv_path = 'signnames.csv'\n",
    "path =  '../MyTestTrafficSigns/'\n",
    "\n",
    "#import the labels csv file\n",
    "with open(csv_path, mode='r') as infile:\n",
    "    reader = csv.reader(infile)\n",
    "    label = {rows[1]:rows[0] for rows in reader}\n",
    "\n",
    "with open(csv_path, mode='r') as infile:\n",
    "    reader = csv.reader(infile)\n",
    "    label_dict = {rows[0]:rows[1] for rows in reader}\n",
    "\n",
    "#assign a label to each of the images\n",
    "labels = [label['Wild animals crossing'],\n",
    "          label['No passing'], \n",
    "          label['Speed limit (60km/h)'], \n",
    "          label['Speed limit (70km/h)'], \n",
    "          label['Stop']]\n",
    "\n",
    "#import the image files\n",
    "def listdir_nohidden(path):\n",
    "    for f in os.listdir(path):\n",
    "        if not f.startswith('.'):\n",
    "            yield f\n",
    "#load and display the images\n",
    "imgs = {}\n",
    "for file,label in zip(sorted(listdir_nohidden(path), key=str.lower),labels):\n",
    "    #img = plt.imread(path+file)\n",
    "    #maxdim = m\n",
    "    img = np.array(Image.open(path+file).convert('RGB'))\n",
    "    \n",
    "    #make the image 32x32, padding as necessary :\n",
    "    im_h, im_w, _= img.shape\n",
    "    maxdim=np.max([im_h,im_w])\n",
    "    new_width, new_height = int(im_w*32/maxdim),int(im_h*32/maxdim)\n",
    "    \n",
    "    #resize the image to 32xn or nx32 depending on the largest dimension : \n",
    "    img = cv2.resize(img, dsize=(new_width, new_height), interpolation=cv2.INTER_CUBIC)\n",
    "    \n",
    "    #pad the other dimension to have exactly 32x32 : \n",
    "    pad_w, pad_h = 32-new_width,32-new_height\n",
    "    img=np.pad(img, ((int(pad_h/2),int(pad_h/2) + pad_h%2 ),(int(pad_w/2),int(pad_w/2) + pad_w%2),(0,0)), 'constant')\n",
    "    \n",
    "    #get the right labels:\n",
    "    imgs[label] = img\n",
    "    \n",
    "    #display labels and images :\n",
    "    #print(label)\n",
    "    #plt.figure(figsize=(1,1))\n",
    "    #plt.imshow(imgs[label])\n",
    "\n",
    "#output images into x_web ndarray : \n",
    "x_web = []\n",
    "for v in imgs.values():\n",
    "    x_web.append(v)\n",
    "    #print(v.shape)\n",
    "x_web = np.array(x_web)\n",
    "y_web= np.array([int(k) for k in imgs.keys()])\n",
    "\n",
    "#apply the normalization to the images\n",
    "old_imgs= x_web\n",
    "x_web=Normalize(x_web).astype('float32')\n"
   ]
  },
  {
   "cell_type": "markdown",
   "metadata": {},
   "source": [
    "### Predict the Sign Type for Each Image"
   ]
  },
  {
   "cell_type": "code",
   "execution_count": 13,
   "metadata": {},
   "outputs": [
    {
     "name": "stdout",
     "output_type": "stream",
     "text": [
      "Here is the test set from the web: \n"
     ]
    },
    {
     "data": {
      "image/png": "[encoded data removed]",
      "text/plain": [
       "<matplotlib.figure.Figure at 0x7f004b367f28>"
      ]
     },
     "metadata": {},
     "output_type": "display_data"
    },
    {
     "data": {
      "image/png": "[encoded data removed]",
      "text/plain": [
       "<matplotlib.figure.Figure at 0x7f0048189668>"
      ]
     },
     "metadata": {},
     "output_type": "display_data"
    },
    {
     "data": {
      "image/png": "[encoded data removed]",
      "text/plain": [
       "<matplotlib.figure.Figure at 0x7f00480d3320>"
      ]
     },
     "metadata": {},
     "output_type": "display_data"
    },
    {
     "data": {
      "image/png": "[encoded data removed]",
      "text/plain": [
       "<matplotlib.figure.Figure at 0x7f00480a3b00>"
      ]
     },
     "metadata": {},
     "output_type": "display_data"
    },
    {
     "data": {
      "image/png": "[encoded data removed]",
      "text/plain": [
       "<matplotlib.figure.Figure at 0x7f004806cf98>"
      ]
     },
     "metadata": {},
     "output_type": "display_data"
    }
   ],
   "source": [
    "#display the images and labels :\n",
    "assert len(old_imgs) == len(y_web)\n",
    "print('Here is the test set from the web: ')\n",
    "for i in range(len(old_imgs)):\n",
    "\n",
    "    plt.figure(figsize=(1,1))\n",
    "    plt.title(label_dict[str(y_web[i])]+' (id# '+str(y_web[i])+')')\n",
    "    plt.imshow(old_imgs[i])"
   ]
  },
  {
   "cell_type": "code",
   "execution_count": 14,
   "metadata": {},
   "outputs": [
    {
     "name": "stdout",
     "output_type": "stream",
     "text": [
      "the predictions are: ['Pedestrians', 'Speed limit (60km/h)', 'Vehicles over 3.5 metric tons prohibited', 'Double curve', 'Wild animals crossing']\n",
      "These predictions are: [False  True False False  True]\n"
     ]
    }
   ],
   "source": [
    "### Run the predictions here and use the model to output the prediction for each image.\n",
    "### Make sure to pre-process the images with the same pre-processing pipeline used earlier.\n",
    "### Feel free to use as many code cells as needed.\n",
    "\n",
    "softmax = tf.nn.softmax(logits)\n",
    "with tf.Session() as sess:\n",
    "    \n",
    "    saver.restore(sess, tf.train.latest_checkpoint('.'))\n",
    "    #print('model restored')\n",
    "    #print(sess.run(tf.report_uninitialized_variables()))\n",
    "    predictions = sess.run(softmax, feed_dict = {x:x_web})\n",
    "    out=sess.run(correct_prediction,feed_dict = {x: x_web, y: y_web})\n",
    "\n",
    "np.set_printoptions(precision=3, suppress = True)\n",
    "print('the predictions are: '+format([label_dict[str(lab)] for lab in np.argmax(predictions,axis=1)]))\n",
    "print('These predictions are: '+format(out))\n",
    "\n"
   ]
  },
  {
   "cell_type": "markdown",
   "metadata": {},
   "source": [
    "### Analyze Performance"
   ]
  },
  {
   "cell_type": "code",
   "execution_count": 15,
   "metadata": {},
   "outputs": [
    {
     "name": "stdout",
     "output_type": "stream",
     "text": [
      "accuracy is 40.00%\n"
     ]
    }
   ],
   "source": [
    "### Calculate the accuracy for these 5 new images. \n",
    "### For example, if the model predicted 1 out of 5 signs correctly, it's 20% accurate on these new images.\n",
    "with tf.Session() as sess:\n",
    "    saver.restore(sess,tf.train.latest_checkpoint('.'))\n",
    "    acc= sess.run(accuracy_operation,feed_dict = {x: x_web, y: y_web})\n",
    "    \n",
    "print('accuracy is '+'{:0.2f}'.format(acc*100)+'%')"
   ]
  },
  {
   "cell_type": "markdown",
   "metadata": {},
   "source": [
    "### Output Top 5 Softmax Probabilities For Each Image Found on the Web"
   ]
  },
  {
   "cell_type": "markdown",
   "metadata": {},
   "source": [
    "For each of the new images, print out the model's softmax probabilities to show the **certainty** of the model's predictions (limit the output to the top 5 probabilities for each image). [`tf.nn.top_k`](https://www.tensorflow.org/versions/r0.12/api_docs/python/nn.html#top_k) could prove helpful here. \n",
    "\n",
    "The example below demonstrates how tf.nn.top_k can be used to find the top k predictions for each image.\n",
    "\n",
    "`tf.nn.top_k` will return the values and indices (class ids) of the top k predictions. So if k=3, for each sign, it'll return the 3 largest probabilities (out of a possible 43) and the correspoding class ids.\n",
    "\n",
    "Take this numpy array as an example. The values in the array represent predictions. The array contains softmax probabilities for five candidate images with six possible classes. `tf.nn.top_k` is used to choose the three classes with the highest probability:\n",
    "\n",
    "```\n",
    "# (5, 6) array\n",
    "a = np.array([[ 0.24879643,  0.07032244,  0.12641572,  0.34763842,  0.07893497,\n",
    "         0.12789202],\n",
    "       [ 0.28086119,  0.27569815,  0.08594638,  0.0178669 ,  0.18063401,\n",
    "         0.15899337],\n",
    "       [ 0.26076848,  0.23664738,  0.08020603,  0.07001922,  0.1134371 ,\n",
    "         0.23892179],\n",
    "       [ 0.11943333,  0.29198961,  0.02605103,  0.26234032,  0.1351348 ,\n",
    "         0.16505091],\n",
    "       [ 0.09561176,  0.34396535,  0.0643941 ,  0.16240774,  0.24206137,\n",
    "         0.09155967]])\n",
    "```\n",
    "\n",
    "Running it through `sess.run(tf.nn.top_k(tf.constant(a), k=3))` produces:\n",
    "\n",
    "```\n",
    "TopKV2(values=array([[ 0.34763842,  0.24879643,  0.12789202],\n",
    "       [ 0.28086119,  0.27569815,  0.18063401],\n",
    "       [ 0.26076848,  0.23892179,  0.23664738],\n",
    "       [ 0.29198961,  0.26234032,  0.16505091],\n",
    "       [ 0.34396535,  0.24206137,  0.16240774]]), indices=array([[3, 0, 5],\n",
    "       [0, 1, 4],\n",
    "       [0, 5, 1],\n",
    "       [1, 3, 5],\n",
    "       [1, 4, 3]], dtype=int32))\n",
    "```\n",
    "\n",
    "Looking just at the first row we get `[ 0.34763842,  0.24879643,  0.12789202]`, you can confirm these are the 3 largest probabilities in `a`. You'll also notice `[3, 0, 5]` are the corresponding indices."
   ]
  },
  {
   "cell_type": "code",
   "execution_count": 16,
   "metadata": {},
   "outputs": [
    {
     "name": "stdout",
     "output_type": "stream",
     "text": [
      "TopKV2(values=array([[ 1.   ,  0.   ,  0.   ,  0.   ,  0.   ],\n",
      "       [ 1.   ,  0.   ,  0.   ,  0.   ,  0.   ],\n",
      "       [ 1.   ,  0.   ,  0.   ,  0.   ,  0.   ],\n",
      "       [ 0.588,  0.408,  0.003,  0.001,  0.   ],\n",
      "       [ 1.   ,  0.   ,  0.   ,  0.   ,  0.   ]], dtype=float32), indices=array([[27, 30, 21,  0, 24],\n",
      "       [ 3,  0, 38, 40, 36],\n",
      "       [16, 21, 20, 23,  0],\n",
      "       [21, 29,  0, 16, 12],\n",
      "       [31,  0,  1,  2,  3]], dtype=int32))\n"
     ]
    },
    {
     "data": {
      "image/png": "[encoded data removed]",
      "text/plain": [
       "<matplotlib.figure.Figure at 0x7f004b35eac8>"
      ]
     },
     "metadata": {},
     "output_type": "display_data"
    },
    {
     "data": {
      "image/png": "[encoded data removed]",
      "text/plain": [
       "<matplotlib.figure.Figure at 0x7f0041fb62b0>"
      ]
     },
     "metadata": {},
     "output_type": "display_data"
    },
    {
     "data": {
      "image/png": "[encoded data removed]",
      "text/plain": [
       "<matplotlib.figure.Figure at 0x7f005e60a6d8>"
      ]
     },
     "metadata": {},
     "output_type": "display_data"
    },
    {
     "data": {
      "image/png": "[encoded data removed]",
      "text/plain": [
       "<matplotlib.figure.Figure at 0x7f004825e080>"
      ]
     },
     "metadata": {},
     "output_type": "display_data"
    },
    {
     "data": {
      "image/png": "[encoded data removed]",
      "text/plain": [
       "<matplotlib.figure.Figure at 0x7f0048096d30>"
      ]
     },
     "metadata": {},
     "output_type": "display_data"
    }
   ],
   "source": [
    "### Print out the top five softmax probabilities for the predictions on the German traffic sign images found on the web. \n",
    "### Feel free to use as many code cells as needed.\n",
    "topfive = tf.nn.top_k(softmax, k=5)\n",
    "\n",
    "with tf.Session() as sess:\n",
    "    saver.restore(sess,tf.train.latest_checkpoint('.'))\n",
    "    top5= sess.run(topfive,feed_dict = {x: x_web, y: y_web})\n",
    "print(top5)\n",
    "top5_sign_types= [[label_dict[str(j)] for j in k] for k in top5[1]]\n",
    "\n",
    "#result = top5_sign_types + str(top5[0])\n",
    "\n",
    "\n",
    "result=[]\n",
    "for row in range(len(top5[0])):\n",
    "    inter=[]\n",
    "    for column in range(len(top5[0][row])):\n",
    "       inter.append(top5_sign_types[row][column]+' ('+'{:0.2f}'.format(top5[0][row][column]*100)+'%)')\n",
    "    result.append(inter)\n",
    "\n",
    "\n",
    "for i in range(len(result)):\n",
    "\n",
    "    plt.figure(figsize=(1,1))\n",
    "    plt.title(result[i])\n",
    "    plt.imshow(old_imgs[i])\n"
   ]
  },
  {
   "cell_type": "markdown",
   "metadata": {},
   "source": [
    "### Project Writeup\n",
    "\n",
    "Once you have completed the code implementation, document your results in a project writeup using this [template](https://github.com/udacity/CarND-Traffic-Sign-Classifier-Project/blob/master/writeup_template.md) as a guide. The writeup can be in a markdown or pdf file. "
   ]
  },
  {
   "cell_type": "markdown",
   "metadata": {},
   "source": [
    "> **Note**: Once you have completed all of the code implementations and successfully answered each question above, you may finalize your work by exporting the iPython Notebook as an HTML document. You can do this by using the menu above and navigating to  \\n\",\n",
    "    \"**File -> Download as -> HTML (.html)**. Include the finished document along with this notebook as your submission."
   ]
  },
  {
   "cell_type": "markdown",
   "metadata": {},
   "source": [
    "---\n",
    "\n",
    "## Step 4 (Optional): Visualize the Neural Network's State with Test Images\n",
    "\n",
    " This Section is not required to complete but acts as an additional excersise for understaning the output of a neural network's weights. While neural networks can be a great learning device they are often referred to as a black box. We can understand what the weights of a neural network look like better by plotting their feature maps. After successfully training your neural network you can see what it's feature maps look like by plotting the output of the network's weight layers in response to a test stimuli image. From these plotted feature maps, it's possible to see what characteristics of an image the network finds interesting. For a sign, maybe the inner network feature maps react with high activation to the sign's boundary outline or to the contrast in the sign's painted symbol.\n",
    "\n",
    " Provided for you below is the function code that allows you to get the visualization output of any tensorflow weight layer you want. The inputs to the function should be a stimuli image, one used during training or a new one you provided, and then the tensorflow variable name that represents the layer's state during the training process, for instance if you wanted to see what the [LeNet lab's](https://classroom.udacity.com/nanodegrees/nd013/parts/fbf77062-5703-404e-b60c-95b78b2f3f9e/modules/6df7ae49-c61c-4bb2-a23e-6527e69209ec/lessons/601ae704-1035-4287-8b11-e2c2716217ad/concepts/d4aca031-508f-4e0b-b493-e7b706120f81) feature maps looked like for it's second convolutional layer you could enter conv2 as the tf_activation variable.\n",
    "\n",
    "For an example of what feature map outputs look like, check out NVIDIA's results in their paper [End-to-End Deep Learning for Self-Driving Cars](https://devblogs.nvidia.com/parallelforall/deep-learning-self-driving-cars/) in the section Visualization of internal CNN State. NVIDIA was able to show that their network's inner weights had high activations to road boundary lines by comparing feature maps from an image with a clear path to one without. Try experimenting with a similar test to show that your trained network's weights are looking for interesting features, whether it's looking at differences in feature maps from images with or without a sign, or even what feature maps look like in a trained network vs a completely untrained one on the same sign image.\n",
    "\n",
    "<figure>\n",
    " <img src=\"visualize_cnn.png\" width=\"380\" alt=\"Combined Image\" />\n",
    " <figcaption>\n",
    " <p></p> \n",
    " <p style=\"text-align: center;\"> Your output should look something like this (above)</p> \n",
    " </figcaption>\n",
    "</figure>\n",
    " <p></p> \n"
   ]
  },
  {
   "cell_type": "code",
   "execution_count": 17,
   "metadata": {
    "collapsed": true
   },
   "outputs": [],
   "source": [
    "### Visualize your network's feature maps here.\n",
    "### Feel free to use as many code cells as needed.\n",
    "\n",
    "# image_input: the test image being fed into the network to produce the feature maps\n",
    "# tf_activation: should be a tf variable name used during your training procedure that represents the calculated state of a specific weight layer\n",
    "# activation_min/max: can be used to view the activation contrast in more detail, by default matplot sets min and max to the actual min and max values of the output\n",
    "# plt_num: used to plot out multiple different weight feature map sets on the same block, just extend the plt number for each new feature map entry\n",
    "\n",
    "def outputFeatureMap(image_input, tf_activation, activation_min=-1, activation_max=-1 ,plt_num=1):\n",
    "    # Here make sure to preprocess your image_input in a way your network expects\n",
    "    # with size, normalization, ect if needed\n",
    "    # image_input =\n",
    "    # Note: x should be the same name as your network's tensorflow data placeholder variable\n",
    "    # If you get an error tf_activation is not defined it may be having trouble accessing the variable from inside a function\n",
    "    activation = tf_activation.eval(session=sess,feed_dict={x : image_input})\n",
    "    featuremaps = activation.shape[3]\n",
    "    plt.figure(plt_num, figsize=(15,15))\n",
    "    for featuremap in range(featuremaps):\n",
    "        plt.subplot(6,8, featuremap+1) # sets the number of feature maps to show on each row and column\n",
    "        plt.title('FeatureMap ' + str(featuremap)) # displays the feature map number\n",
    "        if activation_min != -1 & activation_max != -1:\n",
    "            plt.imshow(activation[0,:,:, featuremap], interpolation=\"nearest\", vmin =activation_min, vmax=activation_max, cmap=\"gray\")\n",
    "        elif activation_max != -1:\n",
    "            plt.imshow(activation[0,:,:, featuremap], interpolation=\"nearest\", vmax=activation_max, cmap=\"gray\")\n",
    "        elif activation_min !=-1:\n",
    "            plt.imshow(activation[0,:,:, featuremap], interpolation=\"nearest\", vmin=activation_min, cmap=\"gray\")\n",
    "        else:\n",
    "            plt.imshow(activation[0,:,:, featuremap], interpolation=\"nearest\", cmap=\"gray\")"
   ]
  },
  {
   "cell_type": "code",
   "execution_count": null,
   "metadata": {
    "collapsed": true
   },
   "outputs": [],
   "source": []
  }
 ],
 "metadata": {
  "anaconda-cloud": {},
  "kernelspec": {
   "display_name": "Python 3",
   "language": "python",
   "name": "python3"
  },
  "language_info": {
   "codemirror_mode": {
    "name": "ipython",
    "version": 3
   },
   "file_extension": ".py",
   "mimetype": "text/x-python",
   "name": "python",
   "nbconvert_exporter": "python",
   "pygments_lexer": "ipython3",
   "version": "3.5.2"
  },
  "widgets": {
   "state": {},
   "version": "1.1.2"
  }
 },
 "nbformat": 4,
 "nbformat_minor": 1
}
